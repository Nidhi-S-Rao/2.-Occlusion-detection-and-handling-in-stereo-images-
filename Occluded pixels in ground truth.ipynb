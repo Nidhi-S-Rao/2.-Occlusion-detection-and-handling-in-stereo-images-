{
 "cells": [
  {
   "cell_type": "code",
   "execution_count": 1,
   "metadata": {},
   "outputs": [
    {
     "name": "stdout",
     "output_type": "stream",
     "text": [
      "dimension:\n",
      " 450 375\n"
     ]
    }
   ],
   "source": [
    "from PIL import Image, ImageDraw\n",
    "displ=Image.open('C:\\\\Users\\\\HP\\\\Desktop\\\\Projects\\\\Summer internship\\\\SRIP\\\\Images\\\\cones\\\\disp2.png')\n",
    "m,n=displ.size\n",
    "displ.show()\n",
    "print(\"dimension:\\n\",m,n)\n",
    "dl=list(displ.getdata())"
   ]
  },
  {
   "cell_type": "code",
   "execution_count": 2,
   "metadata": {},
   "outputs": [
    {
     "name": "stdout",
     "output_type": "stream",
     "text": [
      "dimension:\n",
      " 450 375\n"
     ]
    }
   ],
   "source": [
    "from PIL import Image, ImageDraw\n",
    "dispr=Image.open('C:\\\\Users\\\\HP\\\\Desktop\\\\Projects\\\\Summer internship\\\\SRIP\\\\Images\\\\cones\\\\disp6.png')\n",
    "m,n=dispr.size\n",
    "dispr.show()\n",
    "print(\"dimension:\\n\",m,n)"
   ]
  },
  {
   "cell_type": "code",
   "execution_count": 3,
   "metadata": {},
   "outputs": [
    {
     "name": "stdout",
     "output_type": "stream",
     "text": [
      "occluded pixels Ground truth: 129300\n"
     ]
    }
   ],
   "source": [
    "#Occluded pixels in the ground truth disparity map\n",
    "import numpy as np\n",
    "occ=([0]*n)*m\n",
    "occ2=np.array(occ)\n",
    "pixels=displ.load()#1st image\n",
    "pix2=dispr.load()#2nd image\n",
    "\n",
    "k=0\n",
    "for i in range(m):\n",
    "    for j in range(n):\n",
    "        c=pixels[i,j]       \n",
    "        if(j-c>=0):\n",
    "            a=j-c\n",
    "            cor=pix2[i,a]         \n",
    "            if(abs(c-cor)>1):       \n",
    "                occ2[i]=1                     \n",
    "                k=k+1\n",
    "            else: \n",
    "                occ2[i]=0                                \n",
    "print(\"occluded pixels Ground truth:\",k)"
   ]
  },
  {
   "cell_type": "code",
   "execution_count": null,
   "metadata": {},
   "outputs": [],
   "source": []
  }
 ],
 "metadata": {
  "kernelspec": {
   "display_name": "Python 3",
   "language": "python",
   "name": "python3"
  },
  "language_info": {
   "codemirror_mode": {
    "name": "ipython",
    "version": 3
   },
   "file_extension": ".py",
   "mimetype": "text/x-python",
   "name": "python",
   "nbconvert_exporter": "python",
   "pygments_lexer": "ipython3",
   "version": "3.7.3"
  }
 },
 "nbformat": 4,
 "nbformat_minor": 2
}
