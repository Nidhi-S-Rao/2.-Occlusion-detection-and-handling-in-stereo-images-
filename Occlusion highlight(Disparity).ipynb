{
 "cells": [
  {
   "cell_type": "code",
   "execution_count": 26,
   "metadata": {},
   "outputs": [
    {
     "name": "stdout",
     "output_type": "stream",
     "text": [
      "dimension:\n",
      " 450 375\n"
     ]
    }
   ],
   "source": [
    "from PIL import Image, ImageDraw\n",
    "displ=Image.open('Result/MYLEFT IMAGE.png')\n",
    "m,n=displ.size\n",
    "displ.show()\n",
    "print(\"dimension:\\n\",m,n)\n",
    "dl=list(displ.getdata())"
   ]
  },
  {
   "cell_type": "code",
   "execution_count": 27,
   "metadata": {},
   "outputs": [
    {
     "name": "stdout",
     "output_type": "stream",
     "text": [
      "dimension:\n",
      " 450 375\n"
     ]
    }
   ],
   "source": [
    "from PIL import Image, ImageDraw\n",
    "dispr=Image.open('Result/MYRIGHT IMAGE.png')\n",
    "m,n=dispr.size\n",
    "dispr.show()\n",
    "print(\"dimension:\\n\",m,n)\n"
   ]
  },
  {
   "cell_type": "code",
   "execution_count": 28,
   "metadata": {},
   "outputs": [
    {
     "name": "stdout",
     "output_type": "stream",
     "text": [
      "occluded pixels: 128381\n"
     ]
    }
   ],
   "source": [
    "import numpy as np\n",
    "occ=([0]*n)*m\n",
    "occ2=np.array(occ)\n",
    "pixels=displ.load()#1st image\n",
    "pix2=dispr.load()#2nd image\n",
    "\n",
    "k=0\n",
    "for i in range(m):\n",
    "    for j in range(n):\n",
    "        c=pixels[i,j]       \n",
    "        if(j-c>=0):\n",
    "            a=j-c\n",
    "            cor=pix2[i,a]         \n",
    "            if(abs(c-cor)>1):       \n",
    "                occ2[i]=1                     \n",
    "                k=k+1\n",
    "            else: \n",
    "                occ2[i]=0                                \n",
    "print(\"occluded pixels:\",k)"
   ]
  },
  {
   "cell_type": "code",
   "execution_count": 29,
   "metadata": {},
   "outputs": [
    {
     "name": "stdout",
     "output_type": "stream",
     "text": [
      "occluded pixels in right img: 159750\n"
     ]
    }
   ],
   "source": [
    "#Highlighting the occluded pixels in right disparity map\n",
    "\n",
    "from PIL import Image,ImageColor,ImageDraw\n",
    "global k\n",
    "\n",
    "def change(level):\n",
    "    k=0\n",
    "    imgr = Image.open('Result/MYRIGHT IMAGE.png')\n",
    "    im = imgr.convert('RGB')\n",
    "    width, height = im.size\n",
    "    pixel_values =im.load()\n",
    "\n",
    "\n",
    "\n",
    "    for i in range(width):\n",
    "            for j in range(height):\n",
    "                if(occ2[i]==1):\n",
    "                    pixels[i,j]=0\n",
    "                    k=k+1\n",
    "                    r,g,b=pixel_values[(i,j)]\n",
    "                    rb, gb, bb = pixel_values[(i,j)]\n",
    "                    if not (r+g+b+rb+gb+bb):\n",
    "                        pixel_values[i,j] = (255,0,0,0)\n",
    "                \n",
    "\n",
    "\n",
    "\n",
    "\n",
    "    print(\"occluded pixels in right img:\",k)\n",
    "\n",
    "    return im\n",
    "\n",
    "\n",
    "\n",
    "res=change(100)\n",
    "res.show()\n",
    "res.save('occludedRD.png')\n",
    "\n"
   ]
  },
  {
   "cell_type": "code",
   "execution_count": 30,
   "metadata": {},
   "outputs": [
    {
     "name": "stdout",
     "output_type": "stream",
     "text": [
      "occluded pixels in left img: 159750\n"
     ]
    }
   ],
   "source": [
    "#Highlighting the occluded pixels in the left disparity map\n",
    "from PIL import Image,ImageColor,ImageDraw\n",
    "global k\n",
    "\n",
    "\n",
    "def change(level):\n",
    "    k=0\n",
    "    imgl = Image.open('Result/MYLEFT IMAGE.png')\n",
    "    im = imgl.convert('RGB')\n",
    "    width, height = im.size\n",
    "    pixel_values =im.load()\n",
    "\n",
    "\n",
    "\n",
    "    for i in range(m):\n",
    "            for j in range(n):\n",
    "                if(occ2[i]==1):\n",
    "                    pixels[i,j]=0\n",
    "                    k=k+1\n",
    "                    r,g,b=pixel_values[(i,j)]\n",
    "                    rb, gb, bb = pixel_values[(i,j)]\n",
    "                    if not (r+g+b+rb+gb+bb):\n",
    "                        pixel_values[i,j] = (255,0,0,0)\n",
    "                \n",
    "\n",
    "\n",
    "\n",
    "\n",
    "    print(\"occluded pixels in left img:\",k)\n",
    "\n",
    "    return im\n",
    "\n",
    "\n",
    "\n",
    "res=change(100)\n",
    "res.show()\n",
    "res.save('occludedLD.png')\n",
    "\n"
   ]
  },
  {
   "cell_type": "code",
   "execution_count": null,
   "metadata": {},
   "outputs": [],
   "source": []
  },
  {
   "cell_type": "code",
   "execution_count": null,
   "metadata": {},
   "outputs": [],
   "source": []
  }
 ],
 "metadata": {
  "kernelspec": {
   "display_name": "Python 3",
   "language": "python",
   "name": "python3"
  },
  "language_info": {
   "codemirror_mode": {
    "name": "ipython",
    "version": 3
   },
   "file_extension": ".py",
   "mimetype": "text/x-python",
   "name": "python",
   "nbconvert_exporter": "python",
   "pygments_lexer": "ipython3",
   "version": "3.7.3"
  }
 },
 "nbformat": 4,
 "nbformat_minor": 2
}
