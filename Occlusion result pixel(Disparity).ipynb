{
 "cells": [
  {
   "cell_type": "code",
   "execution_count": 17,
   "metadata": {},
   "outputs": [
    {
     "name": "stdout",
     "output_type": "stream",
     "text": [
      "dimension:\n",
      " 450 375\n"
     ]
    }
   ],
   "source": [
    "from PIL import Image, ImageDraw\n",
    "displ=Image.open('Result/finalLD.png')\n",
    "m,n=displ.size\n",
    "displ.show()\n",
    "print(\"dimension:\\n\",m,n)\n",
    "dl=list(displ.getdata())"
   ]
  },
  {
   "cell_type": "code",
   "execution_count": 22,
   "metadata": {},
   "outputs": [
    {
     "name": "stdout",
     "output_type": "stream",
     "text": [
      "dimension:\n",
      " 450 375\n"
     ]
    }
   ],
   "source": [
    "from PIL import Image, ImageDraw\n",
    "dispr=Image.open('Result/finalRD.png')\n",
    "m,n=dispr.size\n",
    "dispr.show()\n",
    "print(\"dimension:\\n\",m,n)\n"
   ]
  },
  {
   "cell_type": "code",
   "execution_count": 24,
   "metadata": {},
   "outputs": [
    {
     "name": "stdout",
     "output_type": "stream",
     "text": [
      "occluded pixels: 125867\n"
     ]
    }
   ],
   "source": [
    "#Counting the occluded pixels in the final resultant image\n",
    "import numpy as np\n",
    "occ=([0]*n)*m\n",
    "occ2=np.array(occ)\n",
    "pixels=displ.load()#1st image\n",
    "pix2=dispr.load()#2nd image\n",
    "\n",
    "k=0\n",
    "for i in range(m):\n",
    "    for j in range(n):\n",
    "        c=pixels[i,j]       \n",
    "        if(j-c[0]>=0):\n",
    "            a=j-c[0]\n",
    "            cor=pix2[i,a]         \n",
    "            if(abs(c[0]-cor[0])>1):       \n",
    "                occ2[i]=1                     \n",
    "                k=k+1\n",
    "            else: \n",
    "                occ2[i]=0                                \n",
    "print(\"occluded pixels:\",k)"
   ]
  },
  {
   "cell_type": "markdown",
   "metadata": {},
   "source": [
    "Therefore the number of occluded pixels has been reduced than the ground truth disparity map after applying the inpainting technique."
   ]
  },
  {
   "cell_type": "code",
   "execution_count": null,
   "metadata": {},
   "outputs": [],
   "source": []
  }
 ],
 "metadata": {
  "kernelspec": {
   "display_name": "Python 3",
   "language": "python",
   "name": "python3"
  },
  "language_info": {
   "codemirror_mode": {
    "name": "ipython",
    "version": 3
   },
   "file_extension": ".py",
   "mimetype": "text/x-python",
   "name": "python",
   "nbconvert_exporter": "python",
   "pygments_lexer": "ipython3",
   "version": "3.7.3"
  }
 },
 "nbformat": 4,
 "nbformat_minor": 2
}
